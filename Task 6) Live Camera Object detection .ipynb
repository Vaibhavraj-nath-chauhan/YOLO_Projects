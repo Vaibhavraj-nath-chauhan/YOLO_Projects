{
 "cells": [
  {
   "cell_type": "markdown",
   "metadata": {},
   "source": [
    "# In this project we will Create a Live Object Detection Program"
   ]
  },
  {
   "cell_type": "code",
   "execution_count": 64,
   "metadata": {},
   "outputs": [],
   "source": [
    "import cv2\n",
    "import numpy as np"
   ]
  },
  {
   "cell_type": "code",
   "execution_count": 65,
   "metadata": {},
   "outputs": [],
   "source": [
    "labels_path = \"../yolo/coco.names\"\n",
    "config_path = \"../yolo/yolov3.cfg\" \n",
    "weights_path = \"../yolo/yolov3.weights\"\n",
    "\n",
    "\n",
    "labels = open(labels_path).read().split()\n",
    "network = cv2.dnn.readNetFromDarknet(config_path,weights_path)\n",
    "ln = network.getUnconnectedOutLayersNames()"
   ]
  },
  {
   "cell_type": "code",
   "execution_count": 66,
   "metadata": {},
   "outputs": [],
   "source": [
    "def yolo_predection(img):\n",
    "    Boxes = []\n",
    "    Confidences = []\n",
    "    Labels = []\n",
    "    W,H = img.shape[:2]\n",
    "    pre_img = cv2.dnn.blobFromImage(img,1/255.0,(416,416),swapRB=True)\n",
    "    network.setInput(pre_img)\n",
    "    outputs = network.forward(ln)\n",
    "    for layer in outputs:\n",
    "        for detected in layer:\n",
    "            score = detected[5:]\n",
    "            classId = np.argmax(score)\n",
    "            confidence = score[classId]\n",
    "            if float(confidence)>0.8:\n",
    "                Object = labels[classId]\n",
    "                CenterX,CenterY,Width,Height = (detected[:4]*np.array([W,H,W,H])).astype(\"int\")\n",
    "                X,Y = int(CenterX - Width/2),int(CenterY - Height/2)\n",
    "                Boxes.append([X,Y,int(Width),int(Height)])\n",
    "                Confidences.append(float(confidence))\n",
    "                Labels.append(Object)\n",
    "    best_output = cv2.dnn.NMSBoxes(Boxes,Confidences,0.5,0.4)\n",
    "    for i in range(len(Boxes)):\n",
    "        if i in best_output:\n",
    "            my_lab = Labels[i]\n",
    "            X,Y,W,H = Boxes[i]\n",
    "            cv2.rectangle(img,(X,Y),(X+W,Y+H),(0,0,255),2)\n",
    "            cv2.putText(img,my_lab,(X,Y+10),cv2.FONT_HERSHEY_SIMPLEX,.3,(0,255,0),1)\n",
    "    return img\n",
    "    \n",
    "            \n",
    "                \n",
    "                "
   ]
  },
  {
   "cell_type": "code",
   "execution_count": 58,
   "metadata": {},
   "outputs": [],
   "source": [
    "cam = cv2.VideoCapture(0)\n",
    "while True:\n",
    "    temp,img = cam.read()\n",
    "    if temp:\n",
    "        pred_img = yolo_predection(img)\n",
    "        cv2.imshow(\"working\",pred_img)\n",
    "        if cv2.waitKey(1)==13:\n",
    "            break\n",
    "cam.release()\n",
    "cv2.destroyAllWindows()"
   ]
  }
 ],
 "metadata": {
  "kernelspec": {
   "display_name": "Python 3",
   "language": "python",
   "name": "python3"
  },
  "language_info": {
   "codemirror_mode": {
    "name": "ipython",
    "version": 3
   },
   "file_extension": ".py",
   "mimetype": "text/x-python",
   "name": "python",
   "nbconvert_exporter": "python",
   "pygments_lexer": "ipython3",
   "version": "3.7.6"
  }
 },
 "nbformat": 4,
 "nbformat_minor": 4
}
